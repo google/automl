{
  "cells": [
    {
      "cell_type": "markdown",
      "metadata": {
        "id": "V8-yl-s-WKMG"
      },
      "source": [
        "# Det-AdvProp Tutorial: eval \n",
        "\n",
        "\n",
        "\n",
        "<table align=\"left\"><td>\n",
        "  <a target=\"_blank\"  href=\"https://github.com/google/automl/blob/master/efficientdet/Det-AdvProp-tutorial.ipynb\">\n",
        "    <img src=\"https://www.tensorflow.org/images/GitHub-Mark-32px.png\" />View source on github\n",
        "  </a>\n",
        "</td><td>\n",
        "  <a target=\"_blank\"  href=\"https://colab.sandbox.google.com/github/google/automl/blob/master/efficientdet/det-advprop-tutorial.ipynb\">\n",
        "    <img width=32px src=\"https://www.tensorflow.org/images/colab_logo_32px.png\" />Run in Google Colab</a>\n",
        "</td></table>"
      ]
    },
    {
      "cell_type": "markdown",
      "metadata": {
        "id": "muwOCNHaq85j"
      },
      "source": [
        "# 0. Install and view graph."
      ]
    },
    {
      "cell_type": "markdown",
      "metadata": {
        "id": "dggLVarNxxvC"
      },
      "source": [
        "## 0.1 Install package and download source code/image.\n",
        "\n"
      ]
    },
    {
      "cell_type": "code",
      "execution_count": null,
      "metadata": {
        "id": "hGL97-GXjSUw"
      },
      "outputs": [],
      "source": [
        "%%capture\n",
        "#@title\n",
        "import os\n",
        "import sys\n",
        "import tensorflow.compat.v1 as tf\n",
        "\n",
        "# Download source code.\n",
        "if \"efficientdet\" not in os.getcwd():\n",
        "  !git clone --depth 1 https://github.com/google/automl\n",
        "  os.chdir('automl/efficientdet')\n",
        "  sys.path.append('.')\n",
        "  !pip install -r requirements.txt\n",
        "  !pip install -U 'git+https://github.com/cocodataset/cocoapi.git#subdirectory=PythonAPI'\n",
        "else:\n",
        "  !git pull"
      ]
    },
    {
      "cell_type": "code",
      "execution_count": null,
      "metadata": {
        "colab": {
          "base_uri": "https://localhost:8080/"
        },
        "id": "Tow-ic7H3d7i",
        "outputId": "0f9abcf0-9b39-4bf6-9cf5-f98d6d21ff26"
      },
      "outputs": [],
      "source": [
        "MODEL = 'efficientdet-d1'  #@param\n",
        "\n",
        "def download(m):\n",
        "  if m not in os.listdir():\n",
        "    !wget https://storage.googleapis.com/cloud-tpu-checkpoints/efficientdet/advprop/{m}.tar.gz\n",
        "    !tar zxf {m}.tar.gz\n",
        "  ckpt_path = os.path.join(os.getcwd(), m)\n",
        "  return ckpt_path\n",
        "\n",
        "# Download checkpoint.\n",
        "ckpt_path = download(MODEL)\n",
        "print('Use model in {}'.format(ckpt_path))\n",
        "\n",
        "# Prepare image and visualization settings.\n",
        "image_url =  'https://user-images.githubusercontent.com/11736571/77320690-099af300-6d37-11ea-9d86-24f14dc2d540.png'#@param\n",
        "image_name = 'img.png' #@param\n",
        "!wget {image_url} -O img.png\n",
        "import os\n",
        "img_path = os.path.join(os.getcwd(), 'img.png')\n",
        "\n",
        "min_score_thresh = 0.35  #@param\n",
        "max_boxes_to_draw = 200  #@param\n",
        "line_thickness =   2#@param\n",
        "\n",
        "import PIL\n",
        "# Get the largest of height/width and round to 128.\n",
        "image_size = max(PIL.Image.open(img_path).size)"
      ]
    },
    {
      "cell_type": "markdown",
      "metadata": {
        "id": "GvdjcYpUVuQ5"
      },
      "source": [
        "## 0.2 View graph in TensorBoard"
      ]
    },
    {
      "cell_type": "code",
      "execution_count": null,
      "metadata": {
        "id": "U2oz3r1LUDzr"
      },
      "outputs": [],
      "source": [
        "!python model_inspect.py --model_name={MODEL} --logdir=logs &> /dev/null\n",
        "%load_ext tensorboard\n",
        "%tensorboard --logdir logs"
      ]
    },
    {
      "cell_type": "markdown",
      "metadata": {
        "id": "RW26DwfirQQN"
      },
      "source": [
        "# 1. COCO evaluation"
      ]
    },
    {
      "cell_type": "markdown",
      "metadata": {
        "id": "cfn_tRFOWKMO"
      },
      "source": [
        "## 1.1 COCO evaluation on validation set."
      ]
    },
    {
      "cell_type": "code",
      "execution_count": null,
      "metadata": {
        "colab": {
          "base_uri": "https://localhost:8080/"
        },
        "id": "2s6E8IsVN0pB",
        "outputId": "4e711771-81ca-48c3-c178-ca4228473e6d"
      },
      "outputs": [],
      "source": [
        "if 'val2017' not in os.listdir():\n",
        "  !wget http://images.cocodataset.org/zips/val2017.zip\n",
        "  !wget http://images.cocodataset.org/annotations/annotations_trainval2017.zip\n",
        "  !unzip -q val2017.zip\n",
        "  !unzip annotations_trainval2017.zip\n",
        "\n",
        "  !mkdir tfrecord\n",
        "  !PYTHONPATH=\".:$PYTHONPATH\"  python dataset/create_coco_tfrecord.py \\\n",
        "      --image_dir=val2017 \\\n",
        "      --caption_annotations_file=annotations/captions_val2017.json \\\n",
        "      --output_file_prefix=tfrecord/val \\\n",
        "      --num_shards=32"
      ]
    },
    {
      "cell_type": "code",
      "execution_count": null,
      "metadata": {
        "colab": {
          "base_uri": "https://localhost:8080/"
        },
        "id": "eLHZUY3jQpZr",
        "outputId": "88f9aff2-708c-45cf-f7d4-c78b21576843"
      },
      "outputs": [],
      "source": [
        "# Evalute on validation set (takes about 10 mins for efficientdet-d0)\n",
        "!python main.py --mode=eval  \\\n",
        "    --model_name={MODEL}  --model_dir={ckpt_path}  \\\n",
        "    --val_file_pattern=tfrecord/val*  \\\n",
        "    --val_json_file=annotations/instances_val2017.json  \\\n",
        "    --hparams=\"mean_rgb=0.0,stddev_rgb=1.0,scale_range=True\""
      ]
    }
  ],
  "metadata": {
    "accelerator": "GPU",
    "colab": {
      "collapsed_sections": [],
      "name": "Det-AdvProp-tutorial.ipynb",
      "provenance": []
    },
    "kernelspec": {
      "name": "python3",
      "display_name": "Python 3.7.0 64-bit ('tf2.5': conda)"
    },
    "language_info": {
      "name": "python",
      "version": "3.7.0"
    },
    "interpreter": {
      "hash": "d600dbb7c87bb58426765ce371677322f5727a69649678652dbf4635cb853f79"
    }
  },
  "nbformat": 4,
  "nbformat_minor": 0
}